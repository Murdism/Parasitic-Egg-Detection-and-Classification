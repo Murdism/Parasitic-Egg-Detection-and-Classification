{
 "cells": [
  {
   "cell_type": "code",
   "execution_count": null,
   "metadata": {},
   "outputs": [],
   "source": [
    "import os\n",
    "from glob import glob\n",
    "import numpy as np\n",
    "import pandas as pd\n",
    "from read_dataset import build_df\n",
    "from utils import CFG\n",
    "from sklearn.model_selection import train_test_split\n",
    "import torch\n",
    "from torch.autograd import Variable\n",
    "from models import *\n",
    "from main import *\n",
    "from tqdm import tqdm\n",
    "from torch.utils.data import DataLoader\n",
    "from datapreprocess import *\n",
    "\n",
    "import seaborn as sns\n",
    "from sklearn.metrics import *\n",
    "\n",
    "# Parameters\n",
    "params = {\"batch_size\": 64, \"shuffle\": True, \"num_workers\": 6}\n",
    "max_epochs = 100\n",
    "NUM_CLASSES = 11\n",
    "RESNET_OUT_FEATURES = 1000\n",
    "\n",
    "\n",
    "\n",
    "IMG_FILES = glob(CFG.img_path + \"/*.jpg\")\n",
    "XML_FILES = glob(CFG.xml_path + \"/*.xml\")\n",
    "df, classes = build_df(XML_FILES)\n",
    "data = df.to_numpy()\n",
    "\n",
    "    # input and target\n",
    "# input and target\n",
    "input = df[[\"img_path\"]].values\n",
    "input = np.squeeze(input)\n",
    "# input = input.reset_index()\n",
    "target = df[[\"xmin\", \"ymin\", \"xmax\", \"ymax\", \"label\"]].values.astype(np.int32)\n",
    "\n",
    "\n",
    "    # splitting data\n",
    "    # train_data, validation_data, test_data = split_dataset(input,target,True)\n",
    "train_df, test_df = split_dataset(input, target, validation=False)\n"
   ]
  },
  {
   "cell_type": "code",
   "execution_count": null,
   "metadata": {},
   "outputs": [],
   "source": [
    "train_df[1][4] # location and label of the fourth item"
   ]
  },
  {
   "cell_type": "code",
   "execution_count": null,
   "metadata": {},
   "outputs": [],
   "source": [
    "# train_dataset  = ResNetDataset(train_df, transform=None)\n",
    "# test_dataset = ResNetDataset(test_df, transform=None)\n",
    "# train_dataset[0]"
   ]
  },
  {
   "cell_type": "code",
   "execution_count": null,
   "metadata": {},
   "outputs": [],
   "source": [
    "\n",
    "transform = preprocess_image\n",
    "train_dataset  = Custom_Dataset(train_df, transform=transform)\n",
    "test_dataset = Custom_Dataset(test_df, transform=transform)\n",
    "# train_dataset[0][1]"
   ]
  },
  {
   "cell_type": "code",
   "execution_count": null,
   "metadata": {},
   "outputs": [],
   "source": [
    "# type(test_dataset[0][0])"
   ]
  },
  {
   "cell_type": "code",
   "execution_count": null,
   "metadata": {},
   "outputs": [],
   "source": [
    "# plt.imshow(test_dataset[0][0].permute(1,2,0))"
   ]
  },
  {
   "cell_type": "code",
   "execution_count": null,
   "metadata": {},
   "outputs": [],
   "source": [
    "\n",
    "# Dataloaders\n",
    "train_dataloader = DataLoader(\n",
    "    train_dataset, params[\"batch_size\"], num_workers=params[\"num_workers\"], shuffle=params[\"shuffle\"],\n",
    ")\n",
    "# validation_dataloader = torch.utils.data.DataLoader(validation_data, params['batch_size'],num_workers=params['num_workers'])\n",
    "test_dataloader = DataLoader(\n",
    "    test_dataset, params[\"batch_size\"], num_workers=params[\"num_workers\"]\n",
    ")\n"
   ]
  },
  {
   "cell_type": "code",
   "execution_count": null,
   "metadata": {},
   "outputs": [],
   "source": [
    "\n",
    "def get_default_device():\n",
    "    \"\"\"gets gpu for mac m1 or cuda, or cpu machine\"\"\"\n",
    "    \n",
    "    if torch.cuda.is_available():\n",
    "        device = torch.device('cuda')\n",
    "        print('Running on Cuda GPU')\n",
    "        return device\n",
    "        # x = torch.ones(1, device=mps_device)\n",
    "        # print(x)\n",
    "        \n",
    "    \n",
    "    elif torch.backends.mps.is_available():\n",
    "        print('Running on the Mac GPU')\n",
    "        mps_device = torch.device(\"mps\")\n",
    "        return mps_device\n",
    "        \n",
    "    else:\n",
    "        # print(\"MPS device not found.\")\n",
    "        return torch.device('cpu')\n",
    "        print('Code Running on a CPU')"
   ]
  },
  {
   "cell_type": "code",
   "execution_count": null,
   "metadata": {},
   "outputs": [],
   "source": [
    "\n",
    "def train_model(train_dataloader, loss_fn,in_channels=1000,num_classes=11, epochs=30, learning_rate=0.001, device=None):\n",
    "    \n",
    "    if device is None:\n",
    "        device = 'cpu'\n",
    "    model = get_custom_model(res_out_features=in_channels, n_classes=num_classes).to(device)\n",
    "\n",
    "    optimizer = torch.optim.Adam(\n",
    "        params=model.parameters(), lr=learning_rate)\n",
    "\n",
    "    training_losses = []\n",
    "    training_accs = []\n",
    "\n",
    "    for epoch in range(1, epochs+1):\n",
    "        number_of_batches = 0\n",
    "        epoch_loss_values = 0.0\n",
    "        epoch_accs = 0.0\n",
    "        for index, batch in enumerate(tqdm(train_dataloader)):\n",
    "            # X,  y = X.to(device), y.to(device)  # make the tensors in gpu state\n",
    "            X   = batch[0]\n",
    "            y = batch[1]\n",
    "            X  = Variable(X, requires_grad=True).to(device)\n",
    "            y  = torch.LongTensor(y).to(device)\n",
    "\n",
    "            preds = model(X)\n",
    "\n",
    "            loss = loss_fn(preds, y).to(device)\n",
    "            optimizer.zero_grad()\n",
    "            loss.backward()\n",
    "            optimizer.step()\n",
    "\n",
    "            probs = torch.log_softmax(preds, dim=1)\n",
    "            predicted_labels = torch.argmax(probs, dim=1)\n",
    "\n",
    "            # acc\n",
    "            epoch_accs += accuracy_score(y.detach().cpu(),\n",
    "                                         predicted_labels.detach().cpu())\n",
    "            epoch_loss_values += loss.item()\n",
    "\n",
    "            number_of_batches += 1\n",
    "\n",
    "        # compute average of batch loss and accuracy\n",
    "        batch_acc, batch_loss = epoch_accs / \\\n",
    "            number_of_batches, epoch_loss_values / number_of_batches\n",
    "        training_losses.append(batch_loss)\n",
    "        training_accs.append(batch_acc)\n",
    "\n",
    "        print(\"Epoch:{}/{}, acc={:.3f}%, loss={:.3f}\".format(epoch,\n",
    "              epochs, batch_acc*100, batch_loss))\n",
    "\n",
    "    print(\"Learning Finished!\")\n",
    "\n",
    "    return model, training_accs, training_losses\n",
    "\n"
   ]
  },
  {
   "cell_type": "code",
   "execution_count": null,
   "metadata": {},
   "outputs": [],
   "source": [
    "DEVICE = get_default_device()\n",
    "\n",
    "loss_fn = nn.CrossEntropyLoss()\n",
    "learning_rate = 0.001\n",
    "input_features = RESNET_OUT_FEATURES\n",
    "EPOCHS = 20"
   ]
  },
  {
   "cell_type": "code",
   "execution_count": null,
   "metadata": {},
   "outputs": [],
   "source": [
    "DEVICE"
   ]
  },
  {
   "cell_type": "code",
   "execution_count": null,
   "metadata": {},
   "outputs": [],
   "source": [
    "trained_model,training_accs, training_losses =  train_model(train_dataloader, loss_fn, input_features, num_classes = NUM_CLASSES, epochs=EPOCHS, learning_rate=learning_rate,device=DEVICE)"
   ]
  },
  {
   "cell_type": "code",
   "execution_count": null,
   "metadata": {},
   "outputs": [],
   "source": [
    "# Get training and test loss histories\n",
    "import matplotlib.pyplot as plt\n",
    "\n",
    "# Create count of the number of epochs\n",
    "epoch_count = range(1, len(training_accs) + 1)\n",
    "\n",
    "# Visualize loss history\n",
    "plt.plot(epoch_count, training_losses, 'r--')\n",
    "plt.plot(epoch_count, training_accs, 'b-')\n",
    "plt.legend(['Training Accuracy', 'Training Loss'])\n",
    "plt.xlabel('Epoch')\n",
    "plt.ylabel('Accuracy and Loss Curves')\n",
    "plt.show()"
   ]
  },
  {
   "cell_type": "code",
   "execution_count": null,
   "metadata": {},
   "outputs": [],
   "source": [
    "# testing/ validation of unet model\n",
    "def validate_model(trained_model, test_dataloader, device=None):\n",
    "    trained_model.eval() # switch off some layers such as dropout layer during validation\n",
    "    with torch.no_grad():\n",
    "        test_predictions = []\n",
    "        test_labels = []\n",
    "\n",
    "        for i, (x, y) in enumerate(test_dataloader):\n",
    "            x  = x.to(device)\n",
    "            y  = y.to(device)\n",
    "            y_hat = trained_model(x)\n",
    "            predicted_labels =  torch.argmax(y_hat, dim=1).detach().cpu().numpy().tolist()\n",
    "            # y_hat  = y_hat.cpu()\n",
    "            y = y.detach().cpu().numpy().tolist()\n",
    "            test_predictions.extend(predicted_labels)\n",
    "            test_labels.extend(y)\n",
    "    \n",
    "        return test_labels, test_predictions"
   ]
  },
  {
   "cell_type": "code",
   "execution_count": null,
   "metadata": {},
   "outputs": [],
   "source": [
    "def evalution_metrics(ground_truth, predictions):\n",
    "    print(f\"mean acc score = {accuracy_score(ground_truth, predictions)}\")\n",
    "    print(f\"mean recall score = {recall_score(ground_truth, predictions, average='micro')}\")\n",
    "    print(f\"precision score = {precision_score(ground_truth, predictions, average='micro')}\")\n",
    "    print(f\"mean f1 score = {f1_score(ground_truth, predictions, average='micro')}\")\n",
    "    labels = np.unique(ground_truth).tolist()\n",
    "    cm  = confusion_matrix(ground_truth, predictions, labels=labels) \n",
    "    report  = classification_report(ground_truth, predictions)\n",
    "    print(report)\n",
    "\n",
    "    sns.heatmap(cm)\n",
    "    plt.show()\n"
   ]
  },
  {
   "cell_type": "code",
   "execution_count": null,
   "metadata": {},
   "outputs": [],
   "source": [
    "test_labels, test_predictions = validate_model(trained_model, test_dataloader, device=DEVICE)"
   ]
  },
  {
   "cell_type": "code",
   "execution_count": null,
   "metadata": {},
   "outputs": [],
   "source": [
    "evalution_metrics(test_labels, test_predictions)"
   ]
  },
  {
   "cell_type": "code",
   "execution_count": null,
   "metadata": {},
   "outputs": [],
   "source": [
    "def save_model(model, path):\n",
    "    if path is not None:\n",
    "        torch.save(model.state_dict(), path)\n",
    "    else:\n",
    "        curr_dir  = os.getcwd()\n",
    "        torch.save(model.state_dict(), curr_dir)\n",
    "\n",
    "\n",
    "# def load_model(model_weights, path):\n",
    "\n",
    "#     model = NeuralNet()\n",
    "#     model.load_state_dict(torch.load(path))\n",
    "#     model.eval()\n",
    "\n",
    "#     return model\n",
    "    "
   ]
  },
  {
   "cell_type": "code",
   "execution_count": 3,
   "metadata": {},
   "outputs": [],
   "source": [
    "import torch\n",
    "import torch.nn as nn\n",
    "import torch.nn.functional as F\n",
    "\n",
    "class CNN(nn.Module):\n",
    "    def __init__(self, input_channels=3, filters=32, num_classes=11):\n",
    "        super(CNN, self).__init__()\n",
    "        self.conv1  = nn.Conv2d(input_channels, filters, kernel_size=2) \n",
    "        self.conv2  = nn.Conv2d(filters, filters * 2, kernel_size=3)\n",
    "        self.conv3 = nn.Conv2d(filters * 2, filters * 4, kernel_size=3)\n",
    "\n",
    "        self.fc1  =  nn.Linear(in_features= 2 * (filters * 4 * 28*28) , out_features=64)\n",
    "        self.out = nn.Linear(64, out_features=num_classes)\n",
    "\n",
    "        self.flatten = nn.Flatten(start_dim=1)\n",
    "\n",
    "    def forward(self, x):\n",
    "        x  = self.conv1(x) # output = (B, C,224,224)\n",
    "        x  = F.relu(x) \n",
    "        x  = F.max_pool2d(x, kernel_size=2, padding=1) #output = (B,C,112,112)\n",
    "        x  = F.dropout(x, 0.2)\n",
    "\n",
    "        x  = self.conv2(x) #output = (B,iC,112,112)\n",
    "        x  = F.relu(x)\n",
    "        x  = F.max_pool2d(x, kernel_size=2, padding=1) # #output = (B,iC,56,56)\n",
    "        x  = F.dropout(x, 0.2)\n",
    "        x  = self.conv3(x)\n",
    "        x  = F.relu(x)\n",
    "        x  = F.max_pool2d(x, kernel_size=2, padding=1) # output = (B, iC, 28 , 28)\n",
    "        x  = F.dropout(x, 0.2)\n",
    "        x  = self.flatten(x)\n",
    "        x2  = x\n",
    "        print(\"x2 size = \", x2.size())\n",
    "        x  = torch.cat((x, x2), dim=1)\n",
    "        print(\"cat size = \", x.size())\n",
    "        x  = self.fc1(x)\n",
    "        x  = F.relu(x)\n",
    "        x  = F.dropout(x, 0.25)\n",
    "        x  = self.out(x)\n",
    "        return x"
   ]
  },
  {
   "cell_type": "code",
   "execution_count": 4,
   "metadata": {},
   "outputs": [],
   "source": [
    "cnn_model = CNN(3,32,11)\n",
    "test_data  = torch.randn(size = (10, 3, 224,224))"
   ]
  },
  {
   "cell_type": "code",
   "execution_count": 5,
   "metadata": {},
   "outputs": [
    {
     "name": "stdout",
     "output_type": "stream",
     "text": [
      "x2 size =  torch.Size([10, 100352])\n",
      "cat size =  torch.Size([10, 200704])\n",
      "==========================================================================================\n",
      "Layer (type:depth-idx)                   Output Shape              Param #\n",
      "==========================================================================================\n",
      "├─Conv2d: 1-1                            [-1, 32, 223, 223]        416\n",
      "├─Conv2d: 1-2                            [-1, 64, 110, 110]        18,496\n",
      "├─Conv2d: 1-3                            [-1, 128, 54, 54]         73,856\n",
      "├─Flatten: 1-4                           [-1, 100352]              --\n",
      "├─Linear: 1-5                            [-1, 64]                  12,845,120\n",
      "├─Linear: 1-6                            [-1, 11]                  715\n",
      "==========================================================================================\n",
      "Total params: 12,938,603\n",
      "Trainable params: 12,938,603\n",
      "Non-trainable params: 0\n",
      "Total mult-adds (M): 469.96\n",
      "==========================================================================================\n",
      "Input size (MB): 5.74\n",
      "Forward/backward pass size (MB): 20.90\n",
      "Params size (MB): 49.36\n",
      "Estimated Total Size (MB): 76.00\n",
      "==========================================================================================\n"
     ]
    },
    {
     "data": {
      "text/plain": [
       "==========================================================================================\n",
       "Layer (type:depth-idx)                   Output Shape              Param #\n",
       "==========================================================================================\n",
       "├─Conv2d: 1-1                            [-1, 32, 223, 223]        416\n",
       "├─Conv2d: 1-2                            [-1, 64, 110, 110]        18,496\n",
       "├─Conv2d: 1-3                            [-1, 128, 54, 54]         73,856\n",
       "├─Flatten: 1-4                           [-1, 100352]              --\n",
       "├─Linear: 1-5                            [-1, 64]                  12,845,120\n",
       "├─Linear: 1-6                            [-1, 11]                  715\n",
       "==========================================================================================\n",
       "Total params: 12,938,603\n",
       "Trainable params: 12,938,603\n",
       "Non-trainable params: 0\n",
       "Total mult-adds (M): 469.96\n",
       "==========================================================================================\n",
       "Input size (MB): 5.74\n",
       "Forward/backward pass size (MB): 20.90\n",
       "Params size (MB): 49.36\n",
       "Estimated Total Size (MB): 76.00\n",
       "=========================================================================================="
      ]
     },
     "execution_count": 5,
     "metadata": {},
     "output_type": "execute_result"
    }
   ],
   "source": [
    "from torchsummary import summary\n",
    "summary(cnn_model, test_data)"
   ]
  },
  {
   "cell_type": "code",
   "execution_count": 6,
   "metadata": {},
   "outputs": [
    {
     "data": {
      "text/plain": [
       "2"
      ]
     },
     "execution_count": 6,
     "metadata": {},
     "output_type": "execute_result"
    }
   ],
   "source": [
    "200704 // (4*32 * 28 * 28)"
   ]
  },
  {
   "cell_type": "code",
   "execution_count": 7,
   "metadata": {},
   "outputs": [
    {
     "name": "stderr",
     "output_type": "stream",
     "text": [
      "Using cache found in /Users/gere/.cache/torch/hub/pytorch_vision_v0.10.0\n"
     ]
    }
   ],
   "source": [
    "models = [\"resnet50\", \"resnet101\", \"resnet152\"]\n",
    "\n",
    "def get_pretrained_model(model_name):\n",
    "    res_model = torch.hub.load(\n",
    "        \"pytorch/vision:v0.10.0\",\n",
    "        model_name,\n",
    "        weights=\"ResNet152_Weights.DEFAULT\",\n",
    "    )\n",
    "\n",
    "    res_model.eval()\n",
    "    # remove the last layer\n",
    "    # new_model = torch.nn.Sequential(*(list(res_model.children())[:-1]))\n",
    "    # freeze the model\n",
    "    for param in res_model.parameters():\n",
    "        param.requires_grad = False\n",
    "\n",
    "    return res_model\n",
    "res_model = get_pretrained_model(models[2])"
   ]
  },
  {
   "cell_type": "code",
   "execution_count": 10,
   "metadata": {},
   "outputs": [],
   "source": [
    "res_out_features = res_model(test_data)"
   ]
  },
  {
   "cell_type": "code",
   "execution_count": 11,
   "metadata": {},
   "outputs": [
    {
     "data": {
      "text/plain": [
       "torch.Size([10, 1000])"
      ]
     },
     "execution_count": 11,
     "metadata": {},
     "output_type": "execute_result"
    }
   ],
   "source": [
    "res_out_features.shape"
   ]
  }
 ],
 "metadata": {
  "kernelspec": {
   "display_name": "Python 3.9.12 ('torch13')",
   "language": "python",
   "name": "python3"
  },
  "language_info": {
   "codemirror_mode": {
    "name": "ipython",
    "version": 3
   },
   "file_extension": ".py",
   "mimetype": "text/x-python",
   "name": "python",
   "nbconvert_exporter": "python",
   "pygments_lexer": "ipython3",
   "version": "3.9.12"
  },
  "orig_nbformat": 4,
  "vscode": {
   "interpreter": {
    "hash": "552c9644091b0c8a03658003f6bc4e6be186a8b6576a345edbde5d33b7af3828"
   }
  }
 },
 "nbformat": 4,
 "nbformat_minor": 2
}
