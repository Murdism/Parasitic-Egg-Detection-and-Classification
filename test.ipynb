{
 "cells": [
  {
   "cell_type": "code",
   "execution_count": 1,
   "metadata": {},
   "outputs": [],
   "source": [
    "import os\n",
    "from glob import glob\n",
    "import numpy as np\n",
    "import pandas as pd\n",
    "from read_dataset import build_df\n",
    "from utils import CFG\n",
    "from sklearn.model_selection import train_test_split\n",
    "import torch\n",
    "from torch.autograd import Variable\n",
    "from models import *\n",
    "from main import *\n",
    "from tqdm import tqdm\n",
    "from torch.utils.data import DataLoader\n",
    "from datapreprocess import *\n",
    "\n",
    "import seaborn as sns\n",
    "from sklearn.metrics import *\n",
    "\n",
    "# Parameters\n",
    "params = {\"batch_size\": 32, \"shuffle\": True, \"num_workers\": 4}\n",
    "max_epochs = 100\n",
    "NUM_CLASSES = 11\n",
    "RESNET_OUT_FEATURES = 1000\n",
    "\n",
    "\n",
    "\n",
    "IMG_FILES = glob(CFG.img_path + \"/*.jpg\")\n",
    "XML_FILES = glob(CFG.xml_path + \"/*.xml\")\n",
    "df, classes = build_df(XML_FILES)\n",
    "data = df.to_numpy()\n",
    "\n",
    "    # input and target\n",
    "# input and target\n",
    "input = df[[\"img_path\"]].values\n",
    "input = np.squeeze(input)\n",
    "# input = input.reset_index()\n",
    "target = df[[\"xmin\", \"ymin\", \"xmax\", \"ymax\", \"label\"]].values.astype(np.int32)\n",
    "\n",
    "\n",
    "    # splitting data\n",
    "    # train_data, validation_data, test_data = split_dataset(input,target,True)\n",
    "train_df, test_df = split_dataset(input, target, validation=False)\n"
   ]
  },
  {
   "cell_type": "code",
   "execution_count": 2,
   "metadata": {},
   "outputs": [
    {
     "data": {
      "text/plain": [
       "[array(['dataset/data/Paragonimus spp_0745.jpg',\n",
       "        'dataset/data/Paragonimus spp_0248.jpg',\n",
       "        'dataset/data/Fasciolopsis buski_0203.jpg', ...,\n",
       "        'dataset/data/Opisthorchis viverrine_0414.jpg',\n",
       "        'dataset/data/Hymenolepis diminuta_0160.jpg',\n",
       "        'dataset/data/Paragonimus spp_0279.jpg'], dtype=object),\n",
       " array([[ 484,  380,  799,  579,    8],\n",
       "        [ 310,  406,  478,  664,    8],\n",
       "        [1333, 1284, 1757, 2041,    3],\n",
       "        ...,\n",
       "        [ 914,  502,  969,  582,    7],\n",
       "        [1368, 1895, 1701, 2232,    5],\n",
       "        [1368, 1868, 1750, 2100,    8]], dtype=int32)]"
      ]
     },
     "execution_count": 2,
     "metadata": {},
     "output_type": "execute_result"
    }
   ],
   "source": [
    "train_df"
   ]
  },
  {
   "cell_type": "code",
   "execution_count": 3,
   "metadata": {},
   "outputs": [
    {
     "data": {
      "text/plain": [
       "array([250, 442, 438, 633,   5], dtype=int32)"
      ]
     },
     "execution_count": 3,
     "metadata": {},
     "output_type": "execute_result"
    }
   ],
   "source": [
    "train_df[1][4] # location and label of the fourth item"
   ]
  },
  {
   "cell_type": "code",
   "execution_count": 4,
   "metadata": {},
   "outputs": [],
   "source": [
    "# train_dataset  = ResNetDataset(train_df, transform=None)\n",
    "# test_dataset = ResNetDataset(test_df, transform=None)\n",
    "# train_dataset[0]"
   ]
  },
  {
   "cell_type": "code",
   "execution_count": 5,
   "metadata": {},
   "outputs": [],
   "source": [
    "\n",
    "transform = preprocess_image\n",
    "train_dataset  = Custom_Dataset(train_df, transform=transform)\n",
    "test_dataset = Custom_Dataset(test_df, transform=transform)\n",
    "# train_dataset[0][1]"
   ]
  },
  {
   "cell_type": "code",
   "execution_count": 6,
   "metadata": {},
   "outputs": [],
   "source": [
    "# type(test_dataset[0][0])"
   ]
  },
  {
   "cell_type": "code",
   "execution_count": 7,
   "metadata": {},
   "outputs": [],
   "source": [
    "# plt.imshow(test_dataset[0][0].permute(1,2,0))"
   ]
  },
  {
   "cell_type": "code",
   "execution_count": 8,
   "metadata": {},
   "outputs": [],
   "source": [
    "\n",
    "# Dataloaders\n",
    "train_dataloader = DataLoader(\n",
    "    train_dataset, params[\"batch_size\"], num_workers=params[\"num_workers\"], shuffle=params[\"shuffle\"],\n",
    ")\n",
    "# validation_dataloader = torch.utils.data.DataLoader(validation_data, params['batch_size'],num_workers=params['num_workers'])\n",
    "test_dataloader = DataLoader(\n",
    "    test_dataset, params[\"batch_size\"], num_workers=params[\"num_workers\"]\n",
    ")\n"
   ]
  },
  {
   "cell_type": "code",
   "execution_count": 9,
   "metadata": {},
   "outputs": [],
   "source": [
    "\n",
    "def get_default_device():\n",
    "    \"\"\"gets gpu for mac m1 or cuda, or cpu machine\"\"\"\n",
    "    \n",
    "    if torch.cuda.is_available():\n",
    "        device = torch.device('cuda')\n",
    "        print('Running on Cuda GPU')\n",
    "        return device\n",
    "        # x = torch.ones(1, device=mps_device)\n",
    "        # print(x)\n",
    "        \n",
    "    \n",
    "    elif torch.backends.mps.is_available():\n",
    "        print('Running on the Mac GPU')\n",
    "        mps_device = torch.device(\"mps\")\n",
    "        return mps_device\n",
    "        \n",
    "    else:\n",
    "        # print(\"MPS device not found.\")\n",
    "        return torch.device('cpu')\n",
    "        print('Code Running on a CPU')"
   ]
  },
  {
   "cell_type": "code",
   "execution_count": 10,
   "metadata": {},
   "outputs": [],
   "source": [
    "\n",
    "def train_model(train_dataloader, loss_fn,in_channels=1000,num_classes=11, epochs=30, learning_rate=0.001, device=None):\n",
    "    \n",
    "    if device is None:\n",
    "        device = 'cpu'\n",
    "    model = get_custom_model(res_out_features=in_channels, n_classes=num_classes).to(device)\n",
    "\n",
    "    optimizer = torch.optim.Adam(\n",
    "        params=model.parameters(), lr=learning_rate)\n",
    "\n",
    "    training_losses = []\n",
    "    training_accs = []\n",
    "\n",
    "    for epoch in range(1, epochs+1):\n",
    "        number_of_batches = 0\n",
    "        epoch_loss_values = 0.0\n",
    "        epoch_accs = 0.0\n",
    "        for index, batch in enumerate(tqdm(train_dataloader)):\n",
    "            # X,  y = X.to(device), y.to(device)  # make the tensors in gpu state\n",
    "            X   = batch[0]\n",
    "            y = batch[1]\n",
    "            X  = Variable(X, requires_grad=True).to(device)\n",
    "            y  = torch.LongTensor(y).to(device)\n",
    "\n",
    "            preds = model(X)\n",
    "\n",
    "            loss = loss_fn(preds, y).to(device)\n",
    "            optimizer.zero_grad()\n",
    "            loss.backward()\n",
    "            optimizer.step()\n",
    "\n",
    "            probs = torch.log_softmax(preds, dim=1)\n",
    "            predicted_labels = torch.argmax(probs, dim=1)\n",
    "\n",
    "            # acc\n",
    "            epoch_accs += accuracy_score(y.detach().cpu(),\n",
    "                                         predicted_labels.detach().cpu())\n",
    "            epoch_loss_values += loss.item()\n",
    "\n",
    "            number_of_batches += 1\n",
    "\n",
    "        # compute average of batch loss and accuracy\n",
    "        batch_acc, batch_loss = epoch_accs / \\\n",
    "            number_of_batches, epoch_loss_values / number_of_batches\n",
    "        training_losses.append(batch_loss)\n",
    "        training_accs.append(batch_acc)\n",
    "\n",
    "        print(\"Epoch:{}/{}, acc={:.3f}%, loss={:.3f}\".format(epoch,\n",
    "              epochs, batch_acc*100, batch_loss))\n",
    "\n",
    "    print(\"Learning Finished!\")\n",
    "\n",
    "    return model, training_accs, training_losses\n",
    "\n"
   ]
  },
  {
   "cell_type": "code",
   "execution_count": 11,
   "metadata": {},
   "outputs": [
    {
     "name": "stdout",
     "output_type": "stream",
     "text": [
      "Running on Cuda GPU\n"
     ]
    }
   ],
   "source": [
    "DEVICE = get_default_device()\n",
    "\n",
    "loss_fn = nn.CrossEntropyLoss()\n",
    "learning_rate = 0.001\n",
    "input_features = RESNET_OUT_FEATURES\n",
    "EPOCHS = 20"
   ]
  },
  {
   "cell_type": "code",
   "execution_count": 12,
   "metadata": {},
   "outputs": [
    {
     "data": {
      "text/plain": [
       "device(type='cuda')"
      ]
     },
     "execution_count": 12,
     "metadata": {},
     "output_type": "execute_result"
    }
   ],
   "source": [
    "DEVICE"
   ]
  },
  {
   "cell_type": "code",
   "execution_count": 13,
   "metadata": {},
   "outputs": [],
   "source": [
    "# trained_model,training_accs, training_losses =  train_model(train_dataloader, loss_fn, input_features, num_classes = NUM_CLASSES, epochs=EPOCHS, learning_rate=learning_rate,device=DEVICE)"
   ]
  },
  {
   "cell_type": "code",
   "execution_count": 14,
   "metadata": {},
   "outputs": [],
   "source": [
    "import matplotlib.pyplot as plt\n",
    "\n",
    "def plot_model_history(training_accs, training_losses):# Get training and test loss histories\n",
    "\n",
    "    # Create count of the number of epochs\n",
    "    epoch_count = range(1, len(training_accs) + 1)\n",
    "\n",
    "    # Visualize loss history\n",
    "    plt.plot(epoch_count, training_losses, 'r--')\n",
    "    plt.plot(epoch_count, training_accs, 'b-')\n",
    "    plt.legend(['Training Loss', 'Training Accuracy'])\n",
    "    plt.xlabel('Epoch')\n",
    "    plt.ylabel('Accuracy and Loss Curves')\n",
    "    plt.show()"
   ]
  },
  {
   "cell_type": "code",
   "execution_count": 15,
   "metadata": {},
   "outputs": [],
   "source": [
    "# testing/ validation of unet model\n",
    "def validate_model(trained_model, test_dataloader, device=None):\n",
    "    trained_model.eval() # switch off some layers such as dropout layer during validation\n",
    "    with torch.no_grad():\n",
    "        test_predictions = []\n",
    "        test_labels = []\n",
    "\n",
    "        for i, (x, y) in enumerate(test_dataloader):\n",
    "            x  = x.to(device)\n",
    "            y  = y.to(device)\n",
    "            y_hat = trained_model(x)\n",
    "            predicted_labels =  torch.argmax(y_hat, dim=1).detach().cpu().numpy().tolist()\n",
    "            # y_hat  = y_hat.cpu()\n",
    "            y = y.detach().cpu().numpy().tolist()\n",
    "            test_predictions.extend(predicted_labels)\n",
    "            test_labels.extend(y)\n",
    "    \n",
    "        return test_labels, test_predictions"
   ]
  },
  {
   "cell_type": "code",
   "execution_count": 16,
   "metadata": {},
   "outputs": [],
   "source": [
    "def evalution_metrics(ground_truth, predictions):\n",
    "    print(f\"mean acc score = {accuracy_score(ground_truth, predictions)}\")\n",
    "    print(f\"mean recall score = {recall_score(ground_truth, predictions, average='micro')}\")\n",
    "    print(f\"precision score = {precision_score(ground_truth, predictions, average='micro')}\")\n",
    "    print(f\"mean f1 score = {f1_score(ground_truth, predictions, average='micro')}\")\n",
    "    labels = np.unique(ground_truth).tolist()\n",
    "    cm  = confusion_matrix(ground_truth, predictions, labels=labels) \n",
    "    report  = classification_report(ground_truth, predictions)\n",
    "    print(report)\n",
    "\n",
    "    sns.heatmap(cm)\n",
    "    plt.show()\n"
   ]
  },
  {
   "cell_type": "code",
   "execution_count": 17,
   "metadata": {},
   "outputs": [],
   "source": [
    "# test_labels, test_predictions = validate_model(trained_model, test_dataloader, device=DEVICE)"
   ]
  },
  {
   "cell_type": "code",
   "execution_count": 18,
   "metadata": {},
   "outputs": [],
   "source": [
    "# evalution_metrics(test_labels, test_predictions)"
   ]
  },
  {
   "cell_type": "code",
   "execution_count": 19,
   "metadata": {},
   "outputs": [],
   "source": [
    "def save_model(model, path=None):\n",
    "    if path is not None:\n",
    "        torch.save(model.state_dict(), path)\n",
    "    else:\n",
    "        curr_dir  = os.getcwd()\n",
    "        torch.save(model.state_dict(), curr_dir)\n",
    "\n",
    "\n",
    "# def load_model(model_weights, path):\n",
    "\n",
    "#     model = NeuralNet()\n",
    "#     model.load_state_dict(torch.load(path))\n",
    "#     model.eval()\n",
    "\n",
    "#     return model\n",
    "    "
   ]
  },
  {
   "cell_type": "code",
   "execution_count": 20,
   "metadata": {},
   "outputs": [],
   "source": [
    "import torch\n",
    "import torch.nn as nn\n",
    "import torch.nn.functional as F\n",
    "\n",
    "class CNN(nn.Module):\n",
    "    def __init__(self, input_channels=3, filters=32, num_classes=11):\n",
    "        super(CNN, self).__init__()\n",
    "        self.conv1  = nn.Conv2d(input_channels, filters, kernel_size=2) \n",
    "        self.conv2  = nn.Conv2d(filters, filters * 2, kernel_size=3)\n",
    "        self.conv3 = nn.Conv2d(filters * 2, filters * 4, kernel_size=3)\n",
    "\n",
    "        self.fc1  =  nn.Linear(in_features=  (filters * 4 * 28*28  + 1_000) , out_features=64)\n",
    "        self.out = nn.Linear(64, out_features=num_classes)\n",
    "\n",
    "        self.flatten = nn.Flatten(start_dim=1)\n",
    "\n",
    "    def forward(self, x, x2):\n",
    "        x  = self.conv1(x) # output = (B, C,224,224)\n",
    "        x  = F.relu(x) \n",
    "        x  = F.max_pool2d(x, kernel_size=2, padding=1) #output = (B,C,112,112)\n",
    "        x  = F.dropout(x, 0.2)\n",
    "\n",
    "        x  = self.conv2(x) #output = (B,iC,112,112)\n",
    "        x  = F.relu(x)\n",
    "        x  = F.max_pool2d(x, kernel_size=2, padding=1) # #output = (B,iC,56,56)\n",
    "        x  = F.dropout(x, 0.2)\n",
    "        x  = self.conv3(x)\n",
    "        x  = F.relu(x)\n",
    "        x  = F.max_pool2d(x, kernel_size=2, padding=1) # output = (B, iC, 28 , 28)\n",
    "        x  = F.dropout(x, 0.2)\n",
    "        x  = self.flatten(x)\n",
    "        # print(\"x2 size = \", x2.size())\n",
    "        # print(\n",
    "        #     'size of x  = ', x.size(),\n",
    "        # )\n",
    "        x  = torch.cat((x, x2), dim=1)\n",
    "        print(\"cat size = \", x.size())\n",
    "        x  = self.fc1(x)\n",
    "        x  = F.relu(x)\n",
    "        x  = F.dropout(x, 0.25)\n",
    "        x  = self.out(x)\n",
    "        return x"
   ]
  },
  {
   "cell_type": "code",
   "execution_count": 21,
   "metadata": {},
   "outputs": [],
   "source": [
    "cnn_model = CNN(3,32,11)\n",
    "test_data  = torch.randn(size = (10, 3, 224,224))"
   ]
  },
  {
   "cell_type": "code",
   "execution_count": 22,
   "metadata": {},
   "outputs": [],
   "source": [
    "from torchsummary import summary\n",
    "# summary(cnn_model, (test_data, torch.tensor(torch.randn(10, 1000))))"
   ]
  },
  {
   "cell_type": "code",
   "execution_count": 23,
   "metadata": {},
   "outputs": [],
   "source": [
    "import torchvision\n",
    "\n",
    "\n"
   ]
  },
  {
   "cell_type": "code",
   "execution_count": 24,
   "metadata": {},
   "outputs": [],
   "source": [
    "def get_pretrained_model():\n",
    "    \n",
    "    resnet152 = torchvision.models.resnet152(pretrained=True)\n",
    "    resnet152.eval()\n",
    "    # remove the last layer\n",
    "    # new_model = torch.nn.Sequential(*(list(resnet152.children())[:-1]))\n",
    "    # freeze the model\n",
    "    for param in resnet152.parameters():\n",
    "        param.requires_grad = False\n",
    "\n",
    "    # if device is not None:\n",
    "    #     resnet152.to(device)\n",
    "\n",
    "    return resnet152\n"
   ]
  },
  {
   "cell_type": "code",
   "execution_count": 25,
   "metadata": {},
   "outputs": [],
   "source": [
    "def resnet_preprocess(X):\n",
    "    return X"
   ]
  },
  {
   "cell_type": "code",
   "execution_count": 26,
   "metadata": {},
   "outputs": [],
   "source": [
    "\n",
    "def trainCustomModel(resnetModel,yoloDetectModel,customCNNModel, train_dataloader,optimizer,loss_fn,in_channels=3,num_classes=11, epochs=30, learning_rate=0.001, device='cpu'):\n",
    "    \"\"\"Accepts feature from resnet \n",
    "    and yolo object detection cropped iamge(s) \n",
    "    as features to train an accurate cnn classifier.\n",
    "    \"\"\"\n",
    "\n",
    "    training_losses = []\n",
    "    training_accs = []\n",
    "\n",
    "    for epoch in range(1, epochs+1):\n",
    "        number_of_batches = 0\n",
    "        epoch_loss_values = 0.0\n",
    "        epoch_accs = 0.0\n",
    "        for index, batch in enumerate(tqdm(train_dataloader)):\n",
    "            # X,  y = X.to(device), y.to(device)  # make the tensors in gpu state\n",
    "            X   = batch[0]\n",
    "            y = batch[1]\n",
    "            X  = Variable(X, requires_grad=True).to(device)\n",
    "            y  = torch.LongTensor(y).to(device)\n",
    "\n",
    "            # resnet processing\n",
    "            # resnet_X = Variable(resnet_preprocess((X.cpu())), requires_grad=True).to(device)\n",
    "            resnet_X  = resnetModel(X)\n",
    "\n",
    "            # extracted_features = resnetModel(resnet_X) # (Bacth, 1000) tensor is returned\n",
    "            # X2  = Variable(torch.randn(size= (X.size()[0],1000)), requires_grad=True).to(device)\n",
    "            preds = customCNNModel(X, resnet_X)\n",
    "        \n",
    "\n",
    "            loss = loss_fn(preds, y).to(device)\n",
    "            optimizer.zero_grad()\n",
    "            loss.backward()\n",
    "            optimizer.step()\n",
    "\n",
    "            probs = torch.log_softmax(preds, dim=1)\n",
    "            predicted_labels = torch.argmax(probs, dim=1)\n",
    "\n",
    "            # acc\n",
    "            epoch_accs += accuracy_score(y.detach().cpu(),\n",
    "                                         predicted_labels.detach().cpu())\n",
    "            epoch_loss_values += loss.item()\n",
    "\n",
    "            number_of_batches += 1\n",
    "\n",
    "        # compute average of batch loss and accuracy\n",
    "        batch_acc, batch_loss = epoch_accs / \\\n",
    "            number_of_batches, epoch_loss_values / number_of_batches\n",
    "        training_losses.append(batch_loss)\n",
    "        training_accs.append(batch_acc)\n",
    "\n",
    "        print(\"Epoch:{}/{}, acc={:.3f}%, loss={:.3f}\".format(epoch,\n",
    "              epochs, batch_acc*100, batch_loss))\n",
    "\n",
    "    print(\"Learning Finished!\")\n",
    "\n",
    "    return training_accs, training_losses"
   ]
  },
  {
   "cell_type": "code",
   "execution_count": 27,
   "metadata": {},
   "outputs": [],
   "source": [
    "customCNNModel = CNN(input_channels=3, filters=16, num_classes=11).to(DEVICE) \n",
    "optimizer = torch.optim.Adam(\n",
    "        params=customCNNModel.parameters(), lr=learning_rate)"
   ]
  },
  {
   "cell_type": "code",
   "execution_count": 34,
   "metadata": {},
   "outputs": [],
   "source": [
    "resnetModel  = get_pretrained_model().to(DEVICE)\n",
    "# res_out_features = resnetModel(test_data.to(DEVICE))\n",
    "# res_out_features.shape"
   ]
  },
  {
   "cell_type": "code",
   "execution_count": 35,
   "metadata": {},
   "outputs": [
    {
     "name": "stdout",
     "output_type": "stream",
     "text": [
      "cuda\n"
     ]
    }
   ],
   "source": [
    "print(DEVICE)\n",
    "from torch.utils.data import Dataset"
   ]
  },
  {
   "cell_type": "code",
   "execution_count": 36,
   "metadata": {},
   "outputs": [
    {
     "data": {
      "text/plain": [
       "tensor([1, 3, 2, 3, 1, 2, 3, 3, 2, 3])"
      ]
     },
     "execution_count": 36,
     "metadata": {},
     "output_type": "execute_result"
    }
   ],
   "source": [
    "testy  = torch.randint(1, 4, size =(10,))\n",
    "testy"
   ]
  },
  {
   "cell_type": "code",
   "execution_count": 37,
   "metadata": {},
   "outputs": [],
   "source": [
    "\n"
   ]
  },
  {
   "cell_type": "code",
   "execution_count": 38,
   "metadata": {},
   "outputs": [],
   "source": [
    "dummy_dataset  = TinyDataset((test_data, testy))\n",
    "dummy_dataloader =  DataLoader(dummy_dataset, batch_size = 2, shuffle=True)"
   ]
  },
  {
   "cell_type": "code",
   "execution_count": 39,
   "metadata": {},
   "outputs": [
    {
     "name": "stderr",
     "output_type": "stream",
     "text": [
      "  0%|          | 0/274 [00:09<?, ?it/s]\n"
     ]
    },
    {
     "ename": "RuntimeError",
     "evalue": "CUDA out of memory. Tried to allocate 48.00 MiB (GPU 0; 10.76 GiB total capacity; 6.15 GiB already allocated; 27.88 MiB free; 6.41 GiB reserved in total by PyTorch)",
     "output_type": "error",
     "traceback": [
      "\u001b[0;31m---------------------------------------------------------------------------\u001b[0m",
      "\u001b[0;31mRuntimeError\u001b[0m                              Traceback (most recent call last)",
      "Cell \u001b[0;32mIn [39], line 1\u001b[0m\n\u001b[0;32m----> 1\u001b[0m training_accs, training_losses \u001b[39m=\u001b[39m trainCustomModel(resnetModel, \u001b[39mNone\u001b[39;00m,customCNNModel, train_dataloader, optimizer,loss_fn, in_channels\u001b[39m=\u001b[39m\u001b[39m3\u001b[39m,num_classes\u001b[39m=\u001b[39m\u001b[39m11\u001b[39m, epochs\u001b[39m=\u001b[39m\u001b[39m2\u001b[39m, learning_rate\u001b[39m=\u001b[39m\u001b[39m0.001\u001b[39m, device\u001b[39m=\u001b[39mDEVICE)\n",
      "Cell \u001b[0;32mIn [26], line 27\u001b[0m, in \u001b[0;36mtrainCustomModel\u001b[0;34m(resnetModel, yoloDetectModel, customCNNModel, train_dataloader, optimizer, loss_fn, in_channels, num_classes, epochs, learning_rate, device)\u001b[0m\n\u001b[1;32m     23\u001b[0m resnet_X  \u001b[39m=\u001b[39m resnetModel(X)\n\u001b[1;32m     25\u001b[0m \u001b[39m# extracted_features = resnetModel(resnet_X) # (Bacth, 1000) tensor is returned\u001b[39;00m\n\u001b[1;32m     26\u001b[0m \u001b[39m# X2  = Variable(torch.randn(size= (X.size()[0],1000)), requires_grad=True).to(device)\u001b[39;00m\n\u001b[0;32m---> 27\u001b[0m preds \u001b[39m=\u001b[39m customCNNModel(X, resnet_X)\n\u001b[1;32m     30\u001b[0m loss \u001b[39m=\u001b[39m loss_fn(preds, y)\u001b[39m.\u001b[39mto(device)\n\u001b[1;32m     31\u001b[0m optimizer\u001b[39m.\u001b[39mzero_grad()\n",
      "File \u001b[0;32m~/anaconda3/envs/mujoco_py/lib/python3.8/site-packages/torch/nn/modules/module.py:727\u001b[0m, in \u001b[0;36mModule._call_impl\u001b[0;34m(self, *input, **kwargs)\u001b[0m\n\u001b[1;32m    725\u001b[0m     result \u001b[39m=\u001b[39m \u001b[39mself\u001b[39m\u001b[39m.\u001b[39m_slow_forward(\u001b[39m*\u001b[39m\u001b[39minput\u001b[39m, \u001b[39m*\u001b[39m\u001b[39m*\u001b[39mkwargs)\n\u001b[1;32m    726\u001b[0m \u001b[39melse\u001b[39;00m:\n\u001b[0;32m--> 727\u001b[0m     result \u001b[39m=\u001b[39m \u001b[39mself\u001b[39;49m\u001b[39m.\u001b[39;49mforward(\u001b[39m*\u001b[39;49m\u001b[39minput\u001b[39;49m, \u001b[39m*\u001b[39;49m\u001b[39m*\u001b[39;49mkwargs)\n\u001b[1;32m    728\u001b[0m \u001b[39mfor\u001b[39;00m hook \u001b[39min\u001b[39;00m itertools\u001b[39m.\u001b[39mchain(\n\u001b[1;32m    729\u001b[0m         _global_forward_hooks\u001b[39m.\u001b[39mvalues(),\n\u001b[1;32m    730\u001b[0m         \u001b[39mself\u001b[39m\u001b[39m.\u001b[39m_forward_hooks\u001b[39m.\u001b[39mvalues()):\n\u001b[1;32m    731\u001b[0m     hook_result \u001b[39m=\u001b[39m hook(\u001b[39mself\u001b[39m, \u001b[39minput\u001b[39m, result)\n",
      "Cell \u001b[0;32mIn [20], line 24\u001b[0m, in \u001b[0;36mCNN.forward\u001b[0;34m(self, x, x2)\u001b[0m\n\u001b[1;32m     21\u001b[0m x  \u001b[39m=\u001b[39m F\u001b[39m.\u001b[39mdropout(x, \u001b[39m0.2\u001b[39m)\n\u001b[1;32m     23\u001b[0m x  \u001b[39m=\u001b[39m \u001b[39mself\u001b[39m\u001b[39m.\u001b[39mconv2(x) \u001b[39m#output = (B,iC,112,112)\u001b[39;00m\n\u001b[0;32m---> 24\u001b[0m x  \u001b[39m=\u001b[39m F\u001b[39m.\u001b[39;49mrelu(x)\n\u001b[1;32m     25\u001b[0m x  \u001b[39m=\u001b[39m F\u001b[39m.\u001b[39mmax_pool2d(x, kernel_size\u001b[39m=\u001b[39m\u001b[39m2\u001b[39m, padding\u001b[39m=\u001b[39m\u001b[39m1\u001b[39m) \u001b[39m# #output = (B,iC,56,56)\u001b[39;00m\n\u001b[1;32m     26\u001b[0m x  \u001b[39m=\u001b[39m F\u001b[39m.\u001b[39mdropout(x, \u001b[39m0.2\u001b[39m)\n",
      "File \u001b[0;32m~/anaconda3/envs/mujoco_py/lib/python3.8/site-packages/torch/nn/functional.py:1136\u001b[0m, in \u001b[0;36mrelu\u001b[0;34m(input, inplace)\u001b[0m\n\u001b[1;32m   1134\u001b[0m     result \u001b[39m=\u001b[39m torch\u001b[39m.\u001b[39mrelu_(\u001b[39minput\u001b[39m)\n\u001b[1;32m   1135\u001b[0m \u001b[39melse\u001b[39;00m:\n\u001b[0;32m-> 1136\u001b[0m     result \u001b[39m=\u001b[39m torch\u001b[39m.\u001b[39;49mrelu(\u001b[39minput\u001b[39;49m)\n\u001b[1;32m   1137\u001b[0m \u001b[39mreturn\u001b[39;00m result\n",
      "\u001b[0;31mRuntimeError\u001b[0m: CUDA out of memory. Tried to allocate 48.00 MiB (GPU 0; 10.76 GiB total capacity; 6.15 GiB already allocated; 27.88 MiB free; 6.41 GiB reserved in total by PyTorch)"
     ]
    }
   ],
   "source": [
    "training_accs, training_losses = trainCustomModel(resnetModel, None,customCNNModel, train_dataloader, optimizer,loss_fn, in_channels=3,num_classes=11, epochs=2, learning_rate=0.001, device=DEVICE)"
   ]
  },
  {
   "cell_type": "code",
   "execution_count": null,
   "metadata": {},
   "outputs": [],
   "source": [
    "# x2  = torch.randn(10, 1000)\n",
    "# summary(customCNNModel, (test_data, x2))"
   ]
  },
  {
   "cell_type": "code",
   "execution_count": null,
   "metadata": {},
   "outputs": [
    {
     "data": {
      "image/png": "[encoded data removed]",
      "text/plain": [
       "<Figure size 640x480 with 1 Axes>"
      ]
     },
     "metadata": {},
     "output_type": "display_data"
    }
   ],
   "source": [
    "plot_model_history(training_accs, training_losses)"
   ]
  },
  {
   "cell_type": "code",
   "execution_count": null,
   "metadata": {},
   "outputs": [],
   "source": [
    "path = os.path.join(os.getcwd(),'model_weights.pth')"
   ]
  },
  {
   "cell_type": "code",
   "execution_count": null,
   "metadata": {},
   "outputs": [],
   "source": [
    "torch.save(customCNNModel.state_dict(), path)"
   ]
  },
  {
   "cell_type": "code",
   "execution_count": null,
   "metadata": {},
   "outputs": [],
   "source": [
    "# customCNNModel.state_dict()"
   ]
  },
  {
   "cell_type": "code",
   "execution_count": null,
   "metadata": {},
   "outputs": [],
   "source": [
    "# loaded_model.state_dict()\n",
    "\n",
    "# model = CNN(3, 32, NUM_CLASSES).to(DEVICE)\n",
    "# model.load_state_dict(torch.load(path))\n",
    "# model.eval()"
   ]
  },
  {
   "cell_type": "code",
   "execution_count": null,
   "metadata": {},
   "outputs": [],
   "source": [
    "# model.state_dict()\n"
   ]
  },
  {
   "cell_type": "code",
   "execution_count": null,
   "metadata": {},
   "outputs": [],
   "source": [
    "\n",
    "# validate_model(model, test_dataloader)\n"
   ]
  },
  {
   "cell_type": "code",
   "execution_count": null,
   "metadata": {},
   "outputs": [],
   "source": []
  }
 ],
 "metadata": {
  "kernelspec": {
   "display_name": "Python 3.8.15 ('mujoco_py')",
   "language": "python",
   "name": "python3"
  },
  "language_info": {
   "codemirror_mode": {
    "name": "ipython",
    "version": 3
   },
   "file_extension": ".py",
   "mimetype": "text/x-python",
   "name": "python",
   "nbconvert_exporter": "python",
   "pygments_lexer": "ipython3",
   "version": "3.8.15"
  },
  "orig_nbformat": 4,
  "vscode": {
   "interpreter": {
    "hash": "a2f424a28026550c59ba80030c3368e53b944a64380b7979f5e4c49b470b0842"
   }
  }
 },
 "nbformat": 4,
 "nbformat_minor": 2
}
