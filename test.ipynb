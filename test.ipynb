{
 "cells": [
  {
   "cell_type": "code",
   "execution_count": 1,
   "metadata": {},
   "outputs": [],
   "source": [
    "import os\n",
    "from glob import glob\n",
    "import numpy as np\n",
    "import pandas as pd\n",
    "from read_dataset import build_df\n",
    "from utils import CFG\n",
    "from sklearn.model_selection import train_test_split\n",
    "import torch\n",
    "from torch.autograd import Variable\n",
    "from models import *\n",
    "from main import *\n",
    "from tqdm import tqdm\n",
    "from torch.utils.data import DataLoader\n",
    "from datapreprocess import *\n",
    "\n",
    "import seaborn as sns\n",
    "from sklearn.metrics import *\n",
    "\n",
    "# Parameters\n",
    "params = {\"batch_size\": 64, \"shuffle\": True, \"num_workers\": 6}\n",
    "max_epochs = 100\n",
    "NUM_CLASSES = 11\n",
    "RESNET_OUT_FEATURES = 1000\n",
    "\n",
    "\n",
    "\n",
    "IMG_FILES = glob(CFG.img_path + \"/*.jpg\")\n",
    "XML_FILES = glob(CFG.xml_path + \"/*.xml\")\n",
    "df, classes = build_df(XML_FILES)\n",
    "data = df.to_numpy()\n",
    "\n",
    "    # input and target\n",
    "# input and target\n",
    "input = df[[\"img_path\"]].values\n",
    "input = np.squeeze(input)\n",
    "# input = input.reset_index()\n",
    "target = df[[\"xmin\", \"ymin\", \"xmax\", \"ymax\", \"label\"]].values.astype(np.int32)\n",
    "\n",
    "\n",
    "    # splitting data\n",
    "    # train_data, validation_data, test_data = split_dataset(input,target,True)\n",
    "train_df, test_df = split_dataset(input, target, validation=False)\n"
   ]
  },
  {
   "cell_type": "code",
   "execution_count": 2,
   "metadata": {},
   "outputs": [
    {
     "data": {
      "text/plain": [
       "array([1157, 1699, 1323, 1826,    1], dtype=int32)"
      ]
     },
     "execution_count": 2,
     "metadata": {},
     "output_type": "execute_result"
    }
   ],
   "source": [
    "train_df[1][4] # location and label of the fourth item"
   ]
  },
  {
   "cell_type": "code",
   "execution_count": 3,
   "metadata": {},
   "outputs": [],
   "source": [
    "# train_dataset  = ResNetDataset(train_df, transform=None)\n",
    "# test_dataset = ResNetDataset(test_df, transform=None)\n",
    "# train_dataset[0]"
   ]
  },
  {
   "cell_type": "code",
   "execution_count": 4,
   "metadata": {},
   "outputs": [],
   "source": [
    "\n",
    "transform = preprocess_image\n",
    "train_dataset  = Custom_Dataset(train_df, transform=transform)\n",
    "test_dataset = Custom_Dataset(test_df, transform=transform)\n",
    "# train_dataset[0][1]"
   ]
  },
  {
   "cell_type": "code",
   "execution_count": 5,
   "metadata": {},
   "outputs": [],
   "source": [
    "# type(test_dataset[0][0])"
   ]
  },
  {
   "cell_type": "code",
   "execution_count": 6,
   "metadata": {},
   "outputs": [],
   "source": [
    "# plt.imshow(test_dataset[0][0].permute(1,2,0))"
   ]
  },
  {
   "cell_type": "code",
   "execution_count": 7,
   "metadata": {},
   "outputs": [],
   "source": [
    "\n",
    "# Dataloaders\n",
    "train_dataloader = DataLoader(\n",
    "    train_dataset, params[\"batch_size\"], num_workers=params[\"num_workers\"], shuffle=params[\"shuffle\"],\n",
    ")\n",
    "# validation_dataloader = torch.utils.data.DataLoader(validation_data, params['batch_size'],num_workers=params['num_workers'])\n",
    "test_dataloader = DataLoader(\n",
    "    test_dataset, params[\"batch_size\"], num_workers=params[\"num_workers\"]\n",
    ")\n"
   ]
  },
  {
   "cell_type": "code",
   "execution_count": 15,
   "metadata": {},
   "outputs": [],
   "source": [
    "\n",
    "def get_default_device():\n",
    "    \"\"\"gets gpu for mac m1 or cuda, or cpu machine\"\"\"\n",
    "    \n",
    "    if torch.cuda.is_available():\n",
    "        device = torch.device('cuda')\n",
    "        print('Running on Cuda GPU')\n",
    "        return device\n",
    "        # x = torch.ones(1, device=mps_device)\n",
    "        # print(x)\n",
    "        \n",
    "    \n",
    "    elif torch.backends.mps.is_available():\n",
    "        print('Running on the Mac GPU')\n",
    "        mps_device = torch.device(\"mps\")\n",
    "        return mps_device\n",
    "        \n",
    "    else:\n",
    "        # print(\"MPS device not found.\")\n",
    "        return torch.device('cpu')\n",
    "        print('Code Running on a CPU')"
   ]
  },
  {
   "cell_type": "code",
   "execution_count": 9,
   "metadata": {},
   "outputs": [],
   "source": [
    "\n",
    "def train_model(train_dataloader, loss_fn,in_channels=1000,num_classes=11, epochs=30, learning_rate=0.001, device=None):\n",
    "    \n",
    "    if device is None:\n",
    "        device = 'cpu'\n",
    "    model = get_custom_model(res_out_features=in_channels, n_classes=num_classes).to(device)\n",
    "\n",
    "    optimizer = torch.optim.Adam(\n",
    "        params=model.parameters(), lr=learning_rate)\n",
    "\n",
    "    training_losses = []\n",
    "    training_accs = []\n",
    "\n",
    "    for epoch in range(1, epochs+1):\n",
    "        number_of_batches = 0\n",
    "        epoch_loss_values = 0.0\n",
    "        epoch_accs = 0.0\n",
    "        for index, batch in enumerate(tqdm(train_dataloader)):\n",
    "            # X,  y = X.to(device), y.to(device)  # make the tensors in gpu state\n",
    "            X   = batch[0]\n",
    "            y = batch[1]\n",
    "            X  = Variable(X, requires_grad=True).to(device)\n",
    "            y  = torch.LongTensor(y).to(device)\n",
    "\n",
    "            preds = model(X)\n",
    "\n",
    "            loss = loss_fn(preds, y).to(device)\n",
    "            optimizer.zero_grad()\n",
    "            loss.backward()\n",
    "            optimizer.step()\n",
    "\n",
    "            probs = torch.log_softmax(preds, dim=1)\n",
    "            predicted_labels = torch.argmax(probs, dim=1)\n",
    "\n",
    "            # acc\n",
    "            epoch_accs += accuracy_score(y.detach().cpu(),\n",
    "                                         predicted_labels.detach().cpu())\n",
    "            epoch_loss_values += loss.item()\n",
    "\n",
    "            number_of_batches += 1\n",
    "\n",
    "        # compute average of batch loss and accuracy\n",
    "        batch_acc, batch_loss = epoch_accs / \\\n",
    "            number_of_batches, epoch_loss_values / number_of_batches\n",
    "        training_losses.append(batch_loss)\n",
    "        training_accs.append(batch_acc)\n",
    "\n",
    "        print(\"Epoch:{}/{}, acc={:.3f}%, loss={:.3f}\".format(epoch,\n",
    "              epochs, batch_acc*100, batch_loss))\n",
    "\n",
    "    print(\"Learning Finished!\")\n",
    "\n",
    "    return model, training_accs, training_losses\n",
    "\n"
   ]
  },
  {
   "cell_type": "code",
   "execution_count": 16,
   "metadata": {},
   "outputs": [
    {
     "name": "stdout",
     "output_type": "stream",
     "text": [
      "Running on the Mac GPU\n"
     ]
    }
   ],
   "source": [
    "DEVICE = get_default_device()\n",
    "\n",
    "loss_fn = nn.CrossEntropyLoss()\n",
    "learning_rate = 0.001\n",
    "input_features = RESNET_OUT_FEATURES\n",
    "EPOCHS = 1"
   ]
  },
  {
   "cell_type": "code",
   "execution_count": 17,
   "metadata": {},
   "outputs": [
    {
     "data": {
      "text/plain": [
       "device(type='mps')"
      ]
     },
     "execution_count": 17,
     "metadata": {},
     "output_type": "execute_result"
    }
   ],
   "source": [
    "DEVICE"
   ]
  },
  {
   "cell_type": "code",
   "execution_count": 18,
   "metadata": {},
   "outputs": [],
   "source": [
    "trained_model,training_accs, training_losses =  train_model(train_dataloader, loss_fn, input_features, num_classes = NUM_CLASSES, epochs=EPOCHS, learning_rate=learning_rate,device=DEVICE)"
   ]
  },
  {
   "cell_type": "code",
   "execution_count": null,
   "metadata": {},
   "outputs": [],
   "source": [
    "# Get training and test loss histories\n",
    "import matplotlib.pyplot as plt\n",
    "\n",
    "# Create count of the number of epochs\n",
    "epoch_count = range(1, len(training_accs) + 1)\n",
    "\n",
    "# Visualize loss history\n",
    "plt.plot(epoch_count, training_losses, 'r--')\n",
    "plt.plot(epoch_count, training_accs, 'b-')\n",
    "plt.legend(['Training Accuracy', 'Training Loss'])\n",
    "plt.xlabel('Epoch')\n",
    "plt.ylabel('Accuracy and Loss Curves')\n",
    "plt.show()"
   ]
  },
  {
   "cell_type": "code",
   "execution_count": null,
   "metadata": {},
   "outputs": [],
   "source": [
    "# testing/ validation of unet model\n",
    "def validate_model(trained_model, test_dataloader, device=None):\n",
    "    trained_model.eval() # switch off some layers such as dropout layer during validation\n",
    "    with torch.no_grad():\n",
    "        test_predictions = []\n",
    "        test_labels = []\n",
    "\n",
    "        for i, (x, y) in enumerate(test_dataloader):\n",
    "            x  = x.to(device)\n",
    "            y  = y.to(device)\n",
    "            y_hat = trained_model(x)\n",
    "            predicted_labels =  torch.argmax(y_hat, dim=1).detach().cpu().numpy().tolist()\n",
    "            # y_hat  = y_hat.cpu()\n",
    "            y = y.detach().cpu().numpy().tolist()\n",
    "            test_predictions.extend(predicted_labels)\n",
    "            test_labels.extend(y)\n",
    "    \n",
    "        return test_labels, test_predictions"
   ]
  },
  {
   "cell_type": "code",
   "execution_count": null,
   "metadata": {},
   "outputs": [],
   "source": [
    "def evalution_metrics(ground_truth, predictions):\n",
    "    print(f\"mean acc score = {accuracy_score(ground_truth, predictions)}\")\n",
    "    print(f\"mean recall score = {recall_score(ground_truth, predictions, average='micro')}\")\n",
    "    print(f\"precision score = {precision_score(ground_truth, predictions, average='micro')}\")\n",
    "    print(f\"mean f1 score = {f1_score(ground_truth, predictions, average='micro')}\")\n",
    "    labels = np.unique(ground_truth).tolist()\n",
    "    cm  = confusion_matrix(ground_truth, predictions, labels=labels) \n",
    "    report  = classification_report(ground_truth, predictions)\n",
    "    print(report)\n",
    "\n",
    "    sns.heatmap(cm)\n",
    "    plt.show()\n"
   ]
  },
  {
   "cell_type": "code",
   "execution_count": null,
   "metadata": {},
   "outputs": [],
   "source": [
    "test_labels, test_predictions = validate_model(trained_model, test_dataloader, device=DEVICE)"
   ]
  },
  {
   "cell_type": "code",
   "execution_count": null,
   "metadata": {},
   "outputs": [],
   "source": [
    "evalution_metrics(test_labels, test_predictions)"
   ]
  },
  {
   "cell_type": "code",
   "execution_count": null,
   "metadata": {},
   "outputs": [],
   "source": [
    "\n",
    "for batch in tqdm(train_dataloader):\n",
    "    print(batch[0])\n",
    "    break"
   ]
  }
 ],
 "metadata": {
  "kernelspec": {
   "display_name": "Python 3.9.12 ('torch13')",
   "language": "python",
   "name": "python3"
  },
  "language_info": {
   "codemirror_mode": {
    "name": "ipython",
    "version": 3
   },
   "file_extension": ".py",
   "mimetype": "text/x-python",
   "name": "python",
   "nbconvert_exporter": "python",
   "pygments_lexer": "ipython3",
   "version": "3.9.12"
  },
  "orig_nbformat": 4,
  "vscode": {
   "interpreter": {
    "hash": "552c9644091b0c8a03658003f6bc4e6be186a8b6576a345edbde5d33b7af3828"
   }
  }
 },
 "nbformat": 4,
 "nbformat_minor": 2
}
